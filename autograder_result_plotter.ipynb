{
 "cells": [
  {
   "cell_type": "code",
   "execution_count": 1,
   "metadata": {},
   "outputs": [],
   "source": [
    "import matplotlib.pyplot as plt\n",
    "import numpy as np\n",
    "\n",
    "%load_ext autoreload\n",
    "%autoreload 2\n"
   ]
  },
  {
   "cell_type": "code",
   "execution_count": 2,
   "metadata": {},
   "outputs": [],
   "source": [
    "class CheckpointEvaluation:\n",
    "\n",
    "    def __init__(self,\n",
    "                 checkpoint_epoch: int,\n",
    "                 eval_score_normal: float,\n",
    "                 eval_score_bonus: float = None):\n",
    "        self.checkpoint_epoch = checkpoint_epoch\n",
    "        # self.eval_score_normal = eval_score_normal\n",
    "        # self.eval_score_bonus = eval_score_bonus\n",
    "        self.eval_score_normal = eval_score_normal if eval_score_normal is not None else np.nan\n",
    "        self.eval_score_bonus = eval_score_bonus if eval_score_bonus is not None else np.nan\n",
    "\n",
    "\n",
    "# results = {\n",
    "#     \"Double LR, 100 Epochs\": [CheckpointEvaluation(200, 12.5, 5.0), CheckpointEvaluation(150, 15.7, 4.0), CheckpointEvaluation(170, 18.0, 4.75)],\n",
    "#     r\"Weight Decay $= 10^{-4}$\": [CheckpointEvaluation(170, 21.0, 7.8), CheckpointEvaluation(180, 22.5, 6.0), CheckpointEvaluation(150, 21.0, 7.0)],\n",
    "#     \"Initial Run\": [CheckpointEvaluation(200, 19.8612, 3.9596)]\n",
    "# }\n",
    "\n",
    "results = {\n",
    "    \"Double LR, 100 Epochs\": [\n",
    "        CheckpointEvaluation(100, 17.7319, 7.531),\n",
    "        CheckpointEvaluation(100, None, None),\n",
    "        CheckpointEvaluation(100, None, None)\n",
    "    ],\n",
    "    r\"Weight Decay $= 10^{-4}$\": [\n",
    "        CheckpointEvaluation(200, 17.3164, 2.7552),\n",
    "        CheckpointEvaluation(200, None, None),\n",
    "        CheckpointEvaluation(200, None, None)\n",
    "    ],\n",
    "    \"Initial Run\": [CheckpointEvaluation(200, 19.8612, 3.9596)]\n",
    "}"
   ]
  },
  {
   "cell_type": "code",
   "execution_count": 3,
   "metadata": {},
   "outputs": [],
   "source": [
    "# Get \"statistics\" on the results.\n",
    "means_normal_cred = dict()\n",
    "means_extra_cred = dict()\n",
    "for name, res in results.items():\n",
    "    means_normal_cred[name] = np.nanmean([e.eval_score_normal for e in res])\n",
    "\n",
    "    bonus_scores = [e.eval_score_bonus for e in res]\n",
    "    if any([score is None for score in bonus_scores]):\n",
    "        means_extra_cred[name] = None\n",
    "    else:\n",
    "        means_extra_cred[name] = np.nanmean(bonus_scores)"
   ]
  },
  {
   "cell_type": "code",
   "execution_count": 8,
   "metadata": {},
   "outputs": [
    {
     "data": {
      "image/png": "[encoded data removed]",
      "text/plain": [
       "<Figure size 420x240 with 1 Axes>"
      ]
     },
     "metadata": {},
     "output_type": "display_data"
    }
   ],
   "source": [
    "USE_TIGHT_LAYOUT = True\n",
    "USE_BAR_LABELS = False\n",
    "\n",
    "# IEEE single column size is 3.5 inches.\n",
    "# figsize = [3.5, 5.0]\n",
    "# figsize = [7.0, 8.0]\n",
    "figscale = 1.2\n",
    "figsize = np.array([3.5, 2.0]) * figscale\n",
    "\n",
    "kwargs = {\"figsize\": figsize}\n",
    "if not USE_TIGHT_LAYOUT:\n",
    "    kwargs[\"layout\"] = \"constrained\"\n",
    "\n",
    "fig, ax = plt.subplots(**kwargs)\n",
    "\n",
    "x = np.arange(len(results))  # the label locations\n",
    "width = 0.33  # the width of the bars\n",
    "multiplier = 0\n",
    "\n",
    "offset = width * multiplier\n",
    "rects = ax.bar(x + offset,\n",
    "               means_normal_cred.values(),\n",
    "               width,\n",
    "               label=\"Normal Credit\")\n",
    "if USE_BAR_LABELS:\n",
    "    ax.bar_label(rects, padding=3)\n",
    "multiplier += 1\n",
    "\n",
    "offset = width * multiplier\n",
    "rects = ax.bar(x + offset,\n",
    "               means_extra_cred.values(),\n",
    "               width,\n",
    "               label=\"Bonus Credit\")\n",
    "if USE_BAR_LABELS:\n",
    "    ax.bar_label(rects, padding=3)\n",
    "multiplier += 1\n",
    "\n",
    "ax.set_ylabel('AP ($\\%$)')\n",
    "# ax.set_title(\"Figure title\")\n",
    "xtick_names = [f\"$\\\\theta_{i}$\" for i in range(len(results.keys()))]\n",
    "ax.set_xticks(x + width, xtick_names)\n",
    "ax.legend()\n",
    "\n",
    "# Give some extra room for the legend.\n",
    "max_y_val = max(max(means_normal_cred.values()),\n",
    "                max(means_extra_cred.values()))\n",
    "ax.set_ylim(0.0, max_y_val + 6.5)\n",
    "\n",
    "if USE_TIGHT_LAYOUT:\n",
    "    fig.tight_layout()\n"
   ]
  },
  {
   "cell_type": "code",
   "execution_count": 9,
   "metadata": {},
   "outputs": [],
   "source": [
    "fig.savefig(\"hyperparameter_tuning_results.png\", dpi=300)"
   ]
  },
  {
   "cell_type": "code",
   "execution_count": null,
   "metadata": {},
   "outputs": [],
   "source": []
  }
 ],
 "metadata": {
  "kernelspec": {
   "display_name": "rob535_mono",
   "language": "python",
   "name": "python3"
  },
  "language_info": {
   "codemirror_mode": {
    "name": "ipython",
    "version": 3
   },
   "file_extension": ".py",
   "mimetype": "text/x-python",
   "name": "python",
   "nbconvert_exporter": "python",
   "pygments_lexer": "ipython3",
   "version": "3.8.18"
  }
 },
 "nbformat": 4,
 "nbformat_minor": 2
}
