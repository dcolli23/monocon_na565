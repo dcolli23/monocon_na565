{
 "cells": [
  {
   "cell_type": "code",
   "execution_count": 5,
   "metadata": {},
   "outputs": [],
   "source": [
    "import os\n",
    "\n",
    "\n",
    "from convert_to_kitti import get_pose, get_bbox, get_all, to_line, parse_calibration, calib_text, write_calib"
   ]
  },
  {
   "cell_type": "code",
   "execution_count": 6,
   "metadata": {},
   "outputs": [],
   "source": [
    "class Args:\n",
    "    def __init__(self):\n",
    "        self.data_directory = \"../final_project_data/\"\n",
    "        self.output_directory = \"../final_project_data_kitti/\"\n",
    "\n",
    "args = Args()"
   ]
  },
  {
   "cell_type": "markdown",
   "metadata": {},
   "source": [
    "# Setup Calibration"
   ]
  },
  {
   "cell_type": "code",
   "execution_count": 7,
   "metadata": {},
   "outputs": [],
   "source": [
    "dir_train_calib = os.path.join(args.output_directory, 'training/calib')\n",
    "dir_train_img2 = os.path.join(args.output_directory, 'training/image_2')\n",
    "dir_train_label2 = os.path.join(args.output_directory, 'training/label_2')"
   ]
  },
  {
   "cell_type": "code",
   "execution_count": null,
   "metadata": {},
   "outputs": [],
   "source": [
    "val_path = os.path.join(args.data_directory, \"Val\")\n",
    "\n",
    "\n",
    "total_frames = -1\n",
    "cur_file = None\n",
    "train_set = []\n",
    "val_set = []\n",
    "# for train_dir in train_dirs:\n",
    "# dir_path = os.path.join(train_path, train_dir)\n",
    "dir_path = val_path\n",
    "all_ordered = get_all(dir_path)\n",
    "frames = all_ordered[\"frame\"]\n",
    "prev_frame = -1\n",
    "\n",
    "# print(f\"Parsing train dir {train_dir}\")\n",
    "# for i in tqdm(range(len(frames))):\n",
    "for i in range(len(frames)):\n",
    "\n",
    "    # Check if new frame\n",
    "    if frames[i] != prev_frame:\n",
    "        # Close old file\n",
    "        if cur_file is not None:\n",
    "            cur_file.close()\n",
    "\n",
    "        # New frame\n",
    "        prev_frame = frames[i]\n",
    "        total_frames += 1\n",
    "\n",
    "        # New path for labels\n",
    "        new_fpath = os.path.join(dir_train_label2, str(total_frames).zfill(6) + \".txt\")\n",
    "        if os.path.exists(new_fpath):\n",
    "            os.remove(new_fpath)\n",
    "        cur_file = open(new_fpath, \"w\")\n",
    "\n",
    "        # Record the file number\n",
    "        # if train_dir == \"03\":\n",
    "        #     val_set.append(str(total_frames).zfill(6))\n",
    "        # else:\n",
    "        #     train_set.append(str(total_frames).zfill(6))\n",
    "        val_set.append(str(total_frames).zfill(6))\n",
    "\n",
    "        # Image file\n",
    "        image_path = os.path.join(train_path, train_dir, \"Camera\",\n",
    "                                    \"rgb_\" + frames[i].zfill(5) + \".jpg\")\n",
    "        new_image_path = os.path.join(dir_train_img2, str(total_frames).zfill(6) + \".png\")\n",
    "        im = Image.open(image_path)\n",
    "        im.save(new_image_path)\n",
    "\n",
    "        # Calibration file\n",
    "        calib_path = os.path.join(dir_train_calib, str(total_frames).zfill(6) + \".txt\")\n",
    "        calib_info = train_cameras[train_dir][frames[i]]\n",
    "        write_calib(calib_path, calib_info)\n",
    "    new_line = [all_ordered[word][i] for word in ordered_keys]\n",
    "    new_line = to_line(new_line)\n",
    "    cur_file.write(new_line)\n",
    "# Close file\n",
    "cur_file.close()"
   ]
  }
 ],
 "metadata": {
  "kernelspec": {
   "display_name": "Python 3.8.18 ('rob535_mono')",
   "language": "python",
   "name": "python3"
  },
  "language_info": {
   "codemirror_mode": {
    "name": "ipython",
    "version": 3
   },
   "file_extension": ".py",
   "mimetype": "text/x-python",
   "name": "python",
   "nbconvert_exporter": "python",
   "pygments_lexer": "ipython3",
   "version": "3.8.18"
  },
  "orig_nbformat": 4,
  "vscode": {
   "interpreter": {
    "hash": "b0b21a8e555b246c339628f08ba8b9a0aa240de61c4d9ec970d349a4b822e451"
   }
  }
 },
 "nbformat": 4,
 "nbformat_minor": 2
}
